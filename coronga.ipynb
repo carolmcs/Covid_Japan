{
 "cells": [
  {
   "cell_type": "code",
   "execution_count": 1,
   "metadata": {},
   "outputs": [],
   "source": [
    "# import sympy\n",
    "%display typeset"
   ]
  },
  {
   "cell_type": "code",
   "execution_count": 11,
   "metadata": {},
   "outputs": [
    {
     "data": {
      "text/plain": [
       "(S, E, I, R, gamma, mu, alpha, beta)"
      ]
     },
     "execution_count": 11,
     "metadata": {},
     "output_type": "execute_result"
    }
   ],
   "source": [
    "var(' S E I R gamma mu alpha beta')"
   ]
  },
  {
   "cell_type": "code",
   "execution_count": 12,
   "metadata": {},
   "outputs": [],
   "source": [
    "dsdt = -beta*S*I\n",
    "dedt = beta*S*I - mu*E\n",
    "didt = mu*E - alpha*I - gamma*I\n",
    "drdt = alpha*I"
   ]
  },
  {
   "cell_type": "code",
   "execution_count": 13,
   "metadata": {},
   "outputs": [
    {
     "data": {
      "text/plain": [
       "[[S == r1, E == 0, I == 0, R == r2]]"
      ]
     },
     "execution_count": 13,
     "metadata": {},
     "output_type": "execute_result"
    }
   ],
   "source": [
    "solve([dsdt,dedt,didt,drdt],[S,E,I,R])"
   ]
  },
  {
   "cell_type": "code",
   "execution_count": 5,
   "metadata": {},
   "outputs": [
    {
     "data": {
      "text/html": [
       "<html><script type=\"math/tex; mode=display\">\\newcommand{\\Bold}[1]{\\mathbf{#1}}\\left(\\begin{array}{rrrr}\n",
       "-I \\beta & 0 & -S \\beta & 0 \\\\\n",
       "I \\beta & -\\mu & S \\beta & 0 \\\\\n",
       "0 & \\mu & -\\alpha - \\gamma & 0 \\\\\n",
       "0 & 0 & \\alpha & 0\n",
       "\\end{array}\\right)</script></html>"
      ],
      "text/plain": [
       "[       -I*beta              0        -S*beta              0]\n",
       "[        I*beta            -mu         S*beta              0]\n",
       "[             0             mu -alpha - gamma              0]\n",
       "[             0              0          alpha              0]"
      ]
     },
     "execution_count": 5,
     "metadata": {},
     "output_type": "execute_result"
    }
   ],
   "source": [
    "jack=jacobian([dsdt,dedt,didt,drdt],[S,E,I,R])\n",
    "jack"
   ]
  },
  {
   "cell_type": "code",
   "execution_count": 6,
   "metadata": {},
   "outputs": [
    {
     "data": {
      "text/html": [
       "<html><script type=\"math/tex; mode=display\">\\newcommand{\\Bold}[1]{\\mathbf{#1}}x^{4} + \\left(I \\beta + \\alpha + \\gamma + \\mu\\right) x^{3} + \\left(I \\alpha \\beta + I \\beta \\gamma + I \\beta \\mu - S \\beta \\mu + \\alpha \\mu + \\gamma \\mu\\right) x^{2} + \\left(I \\alpha \\beta \\mu + I \\beta \\gamma \\mu\\right) x</script></html>"
      ],
      "text/plain": [
       "x^4 + (I*beta + alpha + gamma + mu)*x^3 + (I*alpha*beta + I*beta*gamma + I*beta*mu - S*beta*mu + alpha*mu + gamma*mu)*x^2 + (I*alpha*beta*mu + I*beta*gamma*mu)*x"
      ]
     },
     "execution_count": 6,
     "metadata": {},
     "output_type": "execute_result"
    }
   ],
   "source": [
    "cp = jack.characteristic_polynomial()\n",
    "cp"
   ]
  },
  {
   "cell_type": "code",
   "execution_count": 8,
   "metadata": {},
   "outputs": [],
   "source": [
    "jack.eigenvalues();"
   ]
  },
  {
   "cell_type": "markdown",
   "metadata": {},
   "source": [
    "compartimentos com infectados: E e I"
   ]
  },
  {
   "cell_type": "code",
   "execution_count": 7,
   "metadata": {},
   "outputs": [],
   "source": [
    "F_cal = matrix([[beta*S*I],[0]])"
   ]
  },
  {
   "cell_type": "code",
   "execution_count": 8,
   "metadata": {},
   "outputs": [],
   "source": [
    "V_cal_neg = matrix([[mu*E],[alpha*I + gamma*I]])"
   ]
  },
  {
   "cell_type": "code",
   "execution_count": 9,
   "metadata": {},
   "outputs": [],
   "source": [
    "V_cal_pos = matrix([[beta*S*I],[mu*E]])"
   ]
  },
  {
   "cell_type": "code",
   "execution_count": 10,
   "metadata": {},
   "outputs": [
    {
     "data": {
      "text/html": [
       "<html><script type=\"math/tex; mode=display\">\\newcommand{\\Bold}[1]{\\mathbf{#1}}\\left(\\begin{array}{r}\n",
       "-I S \\beta + E \\mu \\\\\n",
       "I \\alpha + I \\gamma - E \\mu\n",
       "\\end{array}\\right)</script></html>"
      ],
      "text/plain": [
       "[        -I*S*beta + E*mu]\n",
       "[I*alpha + I*gamma - E*mu]"
      ]
     },
     "execution_count": 10,
     "metadata": {},
     "output_type": "execute_result"
    }
   ],
   "source": [
    "V_cal = V_cal_neg - V_cal_pos\n",
    "V_cal"
   ]
  },
  {
   "cell_type": "code",
   "execution_count": 11,
   "metadata": {},
   "outputs": [
    {
     "data": {
      "text/html": [
       "<html><script type=\"math/tex; mode=display\">\\newcommand{\\Bold}[1]{\\mathbf{#1}}\\left(\\begin{array}{rr}\n",
       "0 & \\beta \\\\\n",
       "0 & 0\n",
       "\\end{array}\\right)</script></html>"
      ],
      "text/plain": [
       "[   0 beta]\n",
       "[   0    0]"
      ]
     },
     "execution_count": 11,
     "metadata": {},
     "output_type": "execute_result"
    }
   ],
   "source": [
    "F = jacobian(F_cal(S=1),[E,I])\n",
    "F"
   ]
  },
  {
   "cell_type": "code",
   "execution_count": 12,
   "metadata": {},
   "outputs": [
    {
     "data": {
      "text/html": [
       "<html><script type=\"math/tex; mode=display\">\\newcommand{\\Bold}[1]{\\mathbf{#1}}\\left(\\begin{array}{rr}\n",
       "\\mu & -\\beta \\\\\n",
       "-\\mu & \\alpha + \\gamma\n",
       "\\end{array}\\right)</script></html>"
      ],
      "text/plain": [
       "[           mu         -beta]\n",
       "[          -mu alpha + gamma]"
      ]
     },
     "execution_count": 12,
     "metadata": {},
     "output_type": "execute_result"
    }
   ],
   "source": [
    "V = jacobian(V_cal(S=1),[E,I])\n",
    "V"
   ]
  },
  {
   "cell_type": "code",
   "execution_count": 13,
   "metadata": {},
   "outputs": [
    {
     "data": {
      "text/html": [
       "<html><script type=\"math/tex; mode=display\">\\newcommand{\\Bold}[1]{\\mathbf{#1}}\\left(\\begin{array}{rr}\n",
       "\\frac{\\beta}{\\alpha - \\beta + \\gamma} & \\frac{\\beta}{\\alpha - \\beta + \\gamma} \\\\\n",
       "0 & 0\n",
       "\\end{array}\\right)</script></html>"
      ],
      "text/plain": [
       "[beta/(alpha - beta + gamma) beta/(alpha - beta + gamma)]\n",
       "[                          0                           0]"
      ]
     },
     "execution_count": 13,
     "metadata": {},
     "output_type": "execute_result"
    }
   ],
   "source": [
    "M = F*V.inverse()\n",
    "M"
   ]
  },
  {
   "cell_type": "code",
   "execution_count": 14,
   "metadata": {},
   "outputs": [
    {
     "data": {
      "text/html": [
       "<html><script type=\"math/tex; mode=display\">\\newcommand{\\Bold}[1]{\\mathbf{#1}}\\left(\\begin{array}{rr}\n",
       "\\frac{\\beta}{\\alpha - \\beta + \\gamma} & \\frac{\\beta}{\\alpha - \\beta + \\gamma} \\\\\n",
       "0 & 0\n",
       "\\end{array}\\right)</script></html>"
      ],
      "text/plain": [
       "[beta/(alpha - beta + gamma) beta/(alpha - beta + gamma)]\n",
       "[                          0                           0]"
      ]
     },
     "execution_count": 14,
     "metadata": {},
     "output_type": "execute_result"
    }
   ],
   "source": [
    "M=M.simplify_full()\n",
    "M"
   ]
  },
  {
   "cell_type": "code",
   "execution_count": 23,
   "metadata": {},
   "outputs": [
    {
     "data": {
      "text/html": [
       "<html><script type=\"math/tex; mode=display\">\\newcommand{\\Bold}[1]{\\mathbf{#1}}\\left[\\frac{\\beta}{\\alpha - \\beta + \\gamma}, 0\\right]</script></html>"
      ],
      "text/plain": [
       "[beta/(alpha - beta + gamma), 0]"
      ]
     },
     "execution_count": 23,
     "metadata": {},
     "output_type": "execute_result"
    }
   ],
   "source": [
    "M.eigenvalues()\n"
   ]
  },
  {
   "cell_type": "code",
   "execution_count": 15,
   "metadata": {},
   "outputs": [
    {
     "data": {
      "text/html": [
       "<html><script type=\"math/tex; mode=display\">\\newcommand{\\Bold}[1]{\\mathbf{#1}}\\frac{\\beta}{\\alpha - \\beta + \\gamma}</script></html>"
      ],
      "text/plain": [
       "beta/(alpha - beta + gamma)"
      ]
     },
     "execution_count": 15,
     "metadata": {},
     "output_type": "execute_result"
    }
   ],
   "source": [
    "R0=M[0,0].simplify_full()\n",
    "R0"
   ]
  },
  {
   "cell_type": "code",
   "execution_count": 2,
   "metadata": {},
   "outputs": [],
   "source": [
    "import numpy as np\n",
    "import matplotlib.pyplot as plt"
   ]
  },
  {
   "cell_type": "code",
   "execution_count": 6,
   "metadata": {},
   "outputs": [
    {
     "name": "stdout",
     "output_type": "stream",
     "text": [
      "Collecting pandas\n",
      "  Using cached https://files.pythonhosted.org/packages/fb/e4/828bb9c2474ff6016e5ce96a78220d485436d5468c23068f4f6c2eb9cff8/pandas-1.1.5.tar.gz\n",
      "  Installing build dependencies ... \u001b[?25ldone\n",
      "\u001b[?25hRequirement already satisfied: python-dateutil>=2.7.3 in /opt/sagemath-9.1/local/lib/python3.7/site-packages (from pandas) (2.8.1)\n",
      "Requirement already satisfied: pytz>=2017.2 in /opt/sagemath-9.1/local/lib/python3.7/site-packages (from pandas) (2018.7)\n",
      "Requirement already satisfied: numpy>=1.15.4 in /opt/sagemath-9.1/local/lib/python3.7/site-packages (from pandas) (1.16.6)\n",
      "Requirement already satisfied: six>=1.5 in /opt/sagemath-9.1/local/lib/python3.7/site-packages (from python-dateutil>=2.7.3->pandas) (1.12.0)\n",
      "Installing collected packages: pandas\n",
      "  Running setup.py install for pandas ... \u001b[?25ldone\n",
      "\u001b[?25hSuccessfully installed pandas-1.1.5\n"
     ]
    }
   ],
   "source": [
    "!pip install pandas"
   ]
  },
  {
   "cell_type": "code",
   "execution_count": 9,
   "metadata": {},
   "outputs": [],
   "source": [
    "import pandas as pd"
   ]
  },
  {
   "cell_type": "code",
   "execution_count": null,
   "metadata": {},
   "outputs": [],
   "source": [
    "def modelo(xs,t,ps):\n",
    "    try:\n",
    "        gamma = ps['gamma'].value \n",
    "        mu = ps['mu'].value\n",
    "        alpha = ps['alpha'].value\n",
    "        beta = ps['beta'].value\n",
    "    except:\n",
    "        gamma, mu, alpha, beta = ps\n",
    "        \n",
    "    \n",
    "    S, E, I, R = xs\n",
    "    \n",
    "    return[\n",
    "        -beta*S*I, \n",
    "        beta*S*I - mu*E,\n",
    "        mu*E - alpha*I - gamma*I,\n",
    "        alpha*I     \n",
    "    ]\n",
    "\n",
    "\n",
    "def engine(t, x0, ps):\n",
    "    S = 1 - np.sum(x0)\n",
    "    x0 = np.insert(x0, 0, S)\n",
    "    x = solve(modelo, x0, t, args = (ps,))\n",
    "    return x"
   ]
  }
 ],
 "metadata": {
  "kernelspec": {
   "display_name": "SageMath 9.1",
   "language": "sage",
   "name": "sagemath"
  },
  "language_info": {
   "codemirror_mode": {
    "name": "ipython",
    "version": 3
   },
   "file_extension": ".py",
   "mimetype": "text/x-python",
   "name": "python",
   "nbconvert_exporter": "python",
   "pygments_lexer": "ipython3",
   "version": "3.7.3"
  }
 },
 "nbformat": 4,
 "nbformat_minor": 2
}
