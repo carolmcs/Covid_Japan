{
 "cells": [
  {
   "cell_type": "code",
   "execution_count": 1,
   "metadata": {},
   "outputs": [],
   "source": [
    "from sympy import *"
   ]
  },
  {
   "cell_type": "code",
   "execution_count": 2,
   "metadata": {},
   "outputs": [],
   "source": [
    "import numpy as np\n",
    "from scipy.integrate import odeint\n",
    "import pandas as pd\n",
    "import matplotlib.pyplot as plt"
   ]
  },
  {
   "cell_type": "code",
   "execution_count": 3,
   "metadata": {},
   "outputs": [
    {
     "data": {
      "text/html": [
       "<div>\n",
       "<style scoped>\n",
       "    .dataframe tbody tr th:only-of-type {\n",
       "        vertical-align: middle;\n",
       "    }\n",
       "\n",
       "    .dataframe tbody tr th {\n",
       "        vertical-align: top;\n",
       "    }\n",
       "\n",
       "    .dataframe thead th {\n",
       "        text-align: right;\n",
       "    }\n",
       "</style>\n",
       "<table border=\"1\" class=\"dataframe\">\n",
       "  <thead>\n",
       "    <tr style=\"text-align: right;\">\n",
       "      <th></th>\n",
       "      <th>iso_code</th>\n",
       "      <th>continent</th>\n",
       "      <th>location</th>\n",
       "      <th>date</th>\n",
       "      <th>total_cases</th>\n",
       "      <th>new_cases</th>\n",
       "      <th>new_cases_smoothed</th>\n",
       "      <th>total_deaths</th>\n",
       "      <th>new_deaths</th>\n",
       "      <th>new_deaths_smoothed</th>\n",
       "      <th>...</th>\n",
       "      <th>gdp_per_capita</th>\n",
       "      <th>extreme_poverty</th>\n",
       "      <th>cardiovasc_death_rate</th>\n",
       "      <th>diabetes_prevalence</th>\n",
       "      <th>female_smokers</th>\n",
       "      <th>male_smokers</th>\n",
       "      <th>handwashing_facilities</th>\n",
       "      <th>hospital_beds_per_thousand</th>\n",
       "      <th>life_expectancy</th>\n",
       "      <th>human_development_index</th>\n",
       "    </tr>\n",
       "  </thead>\n",
       "  <tbody>\n",
       "    <tr>\n",
       "      <td>0</td>\n",
       "      <td>JPN</td>\n",
       "      <td>Asia</td>\n",
       "      <td>Japan</td>\n",
       "      <td>2020-01-22</td>\n",
       "      <td>2.0</td>\n",
       "      <td>NaN</td>\n",
       "      <td>NaN</td>\n",
       "      <td>NaN</td>\n",
       "      <td>NaN</td>\n",
       "      <td>NaN</td>\n",
       "      <td>...</td>\n",
       "      <td>39002.223</td>\n",
       "      <td>NaN</td>\n",
       "      <td>79.37</td>\n",
       "      <td>5.72</td>\n",
       "      <td>11.2</td>\n",
       "      <td>33.7</td>\n",
       "      <td>NaN</td>\n",
       "      <td>13.05</td>\n",
       "      <td>84.63</td>\n",
       "      <td>0.909</td>\n",
       "    </tr>\n",
       "    <tr>\n",
       "      <td>1</td>\n",
       "      <td>JPN</td>\n",
       "      <td>Asia</td>\n",
       "      <td>Japan</td>\n",
       "      <td>2020-01-23</td>\n",
       "      <td>2.0</td>\n",
       "      <td>0.0</td>\n",
       "      <td>NaN</td>\n",
       "      <td>NaN</td>\n",
       "      <td>NaN</td>\n",
       "      <td>NaN</td>\n",
       "      <td>...</td>\n",
       "      <td>39002.223</td>\n",
       "      <td>NaN</td>\n",
       "      <td>79.37</td>\n",
       "      <td>5.72</td>\n",
       "      <td>11.2</td>\n",
       "      <td>33.7</td>\n",
       "      <td>NaN</td>\n",
       "      <td>13.05</td>\n",
       "      <td>84.63</td>\n",
       "      <td>0.909</td>\n",
       "    </tr>\n",
       "    <tr>\n",
       "      <td>2</td>\n",
       "      <td>JPN</td>\n",
       "      <td>Asia</td>\n",
       "      <td>Japan</td>\n",
       "      <td>2020-01-24</td>\n",
       "      <td>2.0</td>\n",
       "      <td>0.0</td>\n",
       "      <td>NaN</td>\n",
       "      <td>NaN</td>\n",
       "      <td>NaN</td>\n",
       "      <td>NaN</td>\n",
       "      <td>...</td>\n",
       "      <td>39002.223</td>\n",
       "      <td>NaN</td>\n",
       "      <td>79.37</td>\n",
       "      <td>5.72</td>\n",
       "      <td>11.2</td>\n",
       "      <td>33.7</td>\n",
       "      <td>NaN</td>\n",
       "      <td>13.05</td>\n",
       "      <td>84.63</td>\n",
       "      <td>0.909</td>\n",
       "    </tr>\n",
       "  </tbody>\n",
       "</table>\n",
       "<p>3 rows × 52 columns</p>\n",
       "</div>"
      ],
      "text/plain": [
       "  iso_code continent location        date  total_cases  new_cases  \\\n",
       "0      JPN      Asia    Japan  2020-01-22          2.0        NaN   \n",
       "1      JPN      Asia    Japan  2020-01-23          2.0        0.0   \n",
       "2      JPN      Asia    Japan  2020-01-24          2.0        0.0   \n",
       "\n",
       "   new_cases_smoothed  total_deaths  new_deaths  new_deaths_smoothed  ...  \\\n",
       "0                 NaN           NaN         NaN                  NaN  ...   \n",
       "1                 NaN           NaN         NaN                  NaN  ...   \n",
       "2                 NaN           NaN         NaN                  NaN  ...   \n",
       "\n",
       "   gdp_per_capita  extreme_poverty  cardiovasc_death_rate  \\\n",
       "0       39002.223              NaN                  79.37   \n",
       "1       39002.223              NaN                  79.37   \n",
       "2       39002.223              NaN                  79.37   \n",
       "\n",
       "   diabetes_prevalence  female_smokers  male_smokers  handwashing_facilities  \\\n",
       "0                 5.72            11.2          33.7                     NaN   \n",
       "1                 5.72            11.2          33.7                     NaN   \n",
       "2                 5.72            11.2          33.7                     NaN   \n",
       "\n",
       "   hospital_beds_per_thousand  life_expectancy  human_development_index  \n",
       "0                       13.05            84.63                    0.909  \n",
       "1                       13.05            84.63                    0.909  \n",
       "2                       13.05            84.63                    0.909  \n",
       "\n",
       "[3 rows x 52 columns]"
      ]
     },
     "execution_count": 3,
     "metadata": {},
     "output_type": "execute_result"
    }
   ],
   "source": [
    "df = pd.read_csv('japaodez.csv', sep = ',')\n",
    "df.head(3)"
   ]
  },
  {
   "cell_type": "code",
   "execution_count": 4,
   "metadata": {},
   "outputs": [],
   "source": [
    "nossosdados = pd.concat([df['total_cases'],df['new_cases'],df['total_deaths'],df['new_deaths'],df['population']], axis=1)"
   ]
  },
  {
   "cell_type": "code",
   "execution_count": 5,
   "metadata": {},
   "outputs": [
    {
     "data": {
      "text/html": [
       "<div>\n",
       "<style scoped>\n",
       "    .dataframe tbody tr th:only-of-type {\n",
       "        vertical-align: middle;\n",
       "    }\n",
       "\n",
       "    .dataframe tbody tr th {\n",
       "        vertical-align: top;\n",
       "    }\n",
       "\n",
       "    .dataframe thead th {\n",
       "        text-align: right;\n",
       "    }\n",
       "</style>\n",
       "<table border=\"1\" class=\"dataframe\">\n",
       "  <thead>\n",
       "    <tr style=\"text-align: right;\">\n",
       "      <th></th>\n",
       "      <th>total_cases</th>\n",
       "      <th>new_cases</th>\n",
       "      <th>total_deaths</th>\n",
       "      <th>new_deaths</th>\n",
       "      <th>population</th>\n",
       "    </tr>\n",
       "  </thead>\n",
       "  <tbody>\n",
       "    <tr>\n",
       "      <td>0</td>\n",
       "      <td>2.0</td>\n",
       "      <td>NaN</td>\n",
       "      <td>NaN</td>\n",
       "      <td>NaN</td>\n",
       "      <td>126476458.0</td>\n",
       "    </tr>\n",
       "    <tr>\n",
       "      <td>1</td>\n",
       "      <td>2.0</td>\n",
       "      <td>0.0</td>\n",
       "      <td>NaN</td>\n",
       "      <td>NaN</td>\n",
       "      <td>126476458.0</td>\n",
       "    </tr>\n",
       "    <tr>\n",
       "      <td>2</td>\n",
       "      <td>2.0</td>\n",
       "      <td>0.0</td>\n",
       "      <td>NaN</td>\n",
       "      <td>NaN</td>\n",
       "      <td>126476458.0</td>\n",
       "    </tr>\n",
       "    <tr>\n",
       "      <td>3</td>\n",
       "      <td>2.0</td>\n",
       "      <td>0.0</td>\n",
       "      <td>NaN</td>\n",
       "      <td>NaN</td>\n",
       "      <td>126476458.0</td>\n",
       "    </tr>\n",
       "    <tr>\n",
       "      <td>4</td>\n",
       "      <td>4.0</td>\n",
       "      <td>2.0</td>\n",
       "      <td>NaN</td>\n",
       "      <td>NaN</td>\n",
       "      <td>126476458.0</td>\n",
       "    </tr>\n",
       "    <tr>\n",
       "      <td>...</td>\n",
       "      <td>...</td>\n",
       "      <td>...</td>\n",
       "      <td>...</td>\n",
       "      <td>...</td>\n",
       "      <td>...</td>\n",
       "    </tr>\n",
       "    <tr>\n",
       "      <td>324</td>\n",
       "      <td>175310.0</td>\n",
       "      <td>2904.0</td>\n",
       "      <td>2446.0</td>\n",
       "      <td>51.0</td>\n",
       "      <td>126476458.0</td>\n",
       "    </tr>\n",
       "    <tr>\n",
       "      <td>325</td>\n",
       "      <td>178272.0</td>\n",
       "      <td>2962.0</td>\n",
       "      <td>2462.0</td>\n",
       "      <td>16.0</td>\n",
       "      <td>126476458.0</td>\n",
       "    </tr>\n",
       "    <tr>\n",
       "      <td>326</td>\n",
       "      <td>180639.0</td>\n",
       "      <td>2367.0</td>\n",
       "      <td>2481.0</td>\n",
       "      <td>19.0</td>\n",
       "      <td>126476458.0</td>\n",
       "    </tr>\n",
       "    <tr>\n",
       "      <td>327</td>\n",
       "      <td>182311.0</td>\n",
       "      <td>1672.0</td>\n",
       "      <td>2530.0</td>\n",
       "      <td>49.0</td>\n",
       "      <td>126476458.0</td>\n",
       "    </tr>\n",
       "    <tr>\n",
       "      <td>328</td>\n",
       "      <td>184752.0</td>\n",
       "      <td>2441.0</td>\n",
       "      <td>2581.0</td>\n",
       "      <td>51.0</td>\n",
       "      <td>126476458.0</td>\n",
       "    </tr>\n",
       "  </tbody>\n",
       "</table>\n",
       "<p>329 rows × 5 columns</p>\n",
       "</div>"
      ],
      "text/plain": [
       "     total_cases  new_cases  total_deaths  new_deaths   population\n",
       "0            2.0        NaN           NaN         NaN  126476458.0\n",
       "1            2.0        0.0           NaN         NaN  126476458.0\n",
       "2            2.0        0.0           NaN         NaN  126476458.0\n",
       "3            2.0        0.0           NaN         NaN  126476458.0\n",
       "4            4.0        2.0           NaN         NaN  126476458.0\n",
       "..           ...        ...           ...         ...          ...\n",
       "324     175310.0     2904.0        2446.0        51.0  126476458.0\n",
       "325     178272.0     2962.0        2462.0        16.0  126476458.0\n",
       "326     180639.0     2367.0        2481.0        19.0  126476458.0\n",
       "327     182311.0     1672.0        2530.0        49.0  126476458.0\n",
       "328     184752.0     2441.0        2581.0        51.0  126476458.0\n",
       "\n",
       "[329 rows x 5 columns]"
      ]
     },
     "execution_count": 5,
     "metadata": {},
     "output_type": "execute_result"
    }
   ],
   "source": [
    "nossosdados"
   ]
  },
  {
   "cell_type": "code",
   "execution_count": 6,
   "metadata": {},
   "outputs": [],
   "source": [
    "def modelo(xs,t,ps):\n",
    "    try:\n",
    "        gamma = ps['gamma'].value \n",
    "        mu = ps['mu'].value\n",
    "        alpha = ps['alpha'].value\n",
    "        beta = ps['beta'].value\n",
    "    except:\n",
    "        gamma, mu, alpha, beta = ps\n",
    "        \n",
    "    \n",
    "    S, E, I, R = xs\n",
    "    \n",
    "    return[\n",
    "        -beta*S*I, \n",
    "        beta*S*I - mu*E,\n",
    "        mu*E - alpha*I - gamma*I,\n",
    "        alpha*I     \n",
    "    ]\n",
    "\n",
    "\n",
    "def engine(t, x0, ps):\n",
    "    S = 1 - np.sum(x0)\n",
    "    x0 = np.insert(x0, 0, S)\n",
    "    x = odeint(modelo, x0, t, args = (ps,))\n",
    "    return x"
   ]
  },
  {
   "cell_type": "code",
   "execution_count": 12,
   "metadata": {},
   "outputs": [],
   "source": [
    "#para calcular a fração inicial de infectados no Japão\n",
    "inicial = nossosdados.loc[0,'total_cases']\n",
    "fracinicial = inicial/nossosdados.loc[0,'population']"
   ]
  },
  {
   "cell_type": "code",
   "execution_count": 13,
   "metadata": {},
   "outputs": [],
   "source": [
    "t = np.linspace(0,50,200)\n",
    "x0 = [0,fracinicial,0]\n",
    "\n",
    "\n",
    "gamma = 1\n",
    "mu = 1\n",
    "alpha = 1\n",
    "beta = 5\n",
    "\n",
    "ps = np.array((gamma, mu, alpha, beta))\n",
    "sol = engine(t,x0,ps)"
   ]
  },
  {
   "cell_type": "code",
   "execution_count": 14,
   "metadata": {},
   "outputs": [
    {
     "data": {
      "image/png": "[encoded data removed]",
      "text/plain": [
       "<Figure size 576x432 with 1 Axes>"
      ]
     },
     "metadata": {
      "needs_background": "light"
     },
     "output_type": "display_data"
    }
   ],
   "source": [
    "plt.figure(figsize=(8, 6))\n",
    "\n",
    "for i in range(4):\n",
    "    plt.plot(t,sol[:,i])"
   ]
  },
  {
   "cell_type": "code",
   "execution_count": 17,
   "metadata": {},
   "outputs": [],
   "source": [
    "from lmfit import *"
   ]
  },
  {
   "cell_type": "code",
   "execution_count": 18,
   "metadata": {},
   "outputs": [],
   "source": [
    "def loss(ps, ts, data):\n",
    "    x0 = ps['E'].value,ps['I'].value,ps['R'].value\n",
    "    f = engine(ts,x0, ps)\n",
    "    s = f[:,1]\n",
    "    return sol[:,1]"
   ]
  },
  {
   "cell_type": "code",
   "execution_count": 24,
   "metadata": {},
   "outputs": [],
   "source": [
    "params = Parameters()\n",
    "\n",
    "params.add('E', value=0.0, min=0, max=1,vary= True)\n",
    "params.add('R', value=0.0, min=0, max=1, vary= True)\n",
    "params.add('I', value=fracinicial, min=0, max=1, vary= True)\n",
    "params.add('gamma', value=0, min=0, max=4)\n",
    "params.add('mu', value=0, min=0, max=1)\n",
    "params.add('alpha', value=0, min=0, max=1)\n",
    "params.add('beta', value=0, min=0, max=1)\n",
    "\n",
    "final = minimize(loss, params, args = (t, dados), method = 'leastsq')"
   ]
  },
  {
   "cell_type": "code",
   "execution_count": 25,
   "metadata": {},
   "outputs": [
    {
     "data": {
      "text/plain": [
       "[<matplotlib.lines.Line2D at 0x271331d9c08>]"
      ]
     },
     "execution_count": 25,
     "metadata": {},
     "output_type": "execute_result"
    },
    {
     "data": {
      "image/png": "[encoded data removed]",
      "text/plain": [
       "<Figure size 576x432 with 1 Axes>"
      ]
     },
     "metadata": {
      "needs_background": "light"
     },
     "output_type": "display_data"
    }
   ],
   "source": [
    "dados = sol[:,1]\n",
    "plt.figure(figsize=(8, 6))\n",
    "\n",
    "\n",
    "plt.plot(t, dados)\n",
    "plt.plot(t, sol[:,1])"
   ]
  },
  {
   "cell_type": "code",
   "execution_count": 26,
   "metadata": {},
   "outputs": [
    {
     "name": "stdout",
     "output_type": "stream",
     "text": [
      "[[Fit Statistics]]\n",
      "    # fitting method   = leastsq\n",
      "    # function evals   = 8\n",
      "    # data points      = 200\n",
      "    # variables        = 7\n",
      "    chi-square         = 0.37266892\n",
      "    reduced chi-square = 0.00193093\n",
      "    Akaike info crit   = -1243.07645\n",
      "    Bayesian info crit = -1219.98823\n",
      "##  Warning: uncertainties could not be estimated:\n",
      "    E:      at boundary\n",
      "    R:      at boundary\n",
      "    I:      at initial value\n",
      "    gamma:  at boundary\n",
      "    mu:     at boundary\n",
      "    alpha:  at boundary\n",
      "    beta:   at boundary\n",
      "[[Variables]]\n",
      "    E:      0.00000000 (init = 0)\n",
      "    R:      0.00000000 (init = 0)\n",
      "    I:      1.5813e-08 (init = 1.581322e-08)\n",
      "    gamma:  0.00000000 (init = 0)\n",
      "    mu:     0.00000000 (init = 0)\n",
      "    alpha:  0.00000000 (init = 0)\n",
      "    beta:   0.00000000 (init = 0)\n"
     ]
    }
   ],
   "source": [
    "report_fit(final)"
   ]
  },
  {
   "cell_type": "code",
   "execution_count": 16,
   "metadata": {},
   "outputs": [
    {
     "name": "stdout",
     "output_type": "stream",
     "text": [
      "Collecting lmfit\n",
      "  Downloading https://files.pythonhosted.org/packages/d1/2e/9e4cdcebf93603ce57bc7577707ad56ed1282ae306f611e525612b9cfeea/lmfit-1.0.1.tar.gz (258kB)\n",
      "Collecting asteval>=0.9.16 (from lmfit)\n",
      "  Downloading https://files.pythonhosted.org/packages/4f/d5/ce490afa6f6ab1bb97ffd66a80bfb032d22407fc215d60b21ca174e25c51/asteval-0.9.21.tar.gz (54kB)\n",
      "Requirement already satisfied: numpy>=1.16 in c:\\users\\facc\\anaconda3\\lib\\site-packages (from lmfit) (1.16.5)\n",
      "Requirement already satisfied: scipy>=1.2 in c:\\users\\facc\\anaconda3\\lib\\site-packages (from lmfit) (1.3.1)\n",
      "Collecting uncertainties>=3.0.1 (from lmfit)\n",
      "  Downloading https://files.pythonhosted.org/packages/45/41/fc7e7b73b603e7c2c9e040b7aa8caf4a88d74b6faa567601ed82b6f0d8e1/uncertainties-3.1.5-py2.py3-none-any.whl (246kB)\n",
      "Requirement already satisfied: future in c:\\users\\facc\\anaconda3\\lib\\site-packages (from uncertainties>=3.0.1->lmfit) (0.17.1)\n",
      "Building wheels for collected packages: lmfit, asteval\n",
      "  Building wheel for lmfit (setup.py): started\n",
      "  Building wheel for lmfit (setup.py): finished with status 'done'\n",
      "  Created wheel for lmfit: filename=lmfit-1.0.1-cp37-none-any.whl size=82006 sha256=2bd294e6b27d01c1bda1fdf281c6787c0d901be5bb33d4f2cf5b0a9d07f0659b\n",
      "  Stored in directory: C:\\Users\\FACC\\AppData\\Local\\pip\\Cache\\wheels\\ef\\22\\8d\\6cd9c0af36f501cfb248673b05dad5d2c27504951d55519acb\n",
      "  Building wheel for asteval (setup.py): started\n",
      "  Building wheel for asteval (setup.py): finished with status 'done'\n",
      "  Created wheel for asteval: filename=asteval-0.9.21-cp37-none-any.whl size=17302 sha256=51dabbda9cd3c6e88a29def9cd25a50fe8eaf32e6d5958ab140f8517887c661b\n",
      "  Stored in directory: C:\\Users\\FACC\\AppData\\Local\\pip\\Cache\\wheels\\53\\9d\\3b\\da1ff15feb7d97bb195837f4e78f971c748a945bd4720003ce\n",
      "Successfully built lmfit asteval\n",
      "Installing collected packages: asteval, uncertainties, lmfit\n",
      "Successfully installed asteval-0.9.21 lmfit-1.0.1 uncertainties-3.1.5\n"
     ]
    }
   ],
   "source": [
    "!pip install lmfit"
   ]
  },
  {
   "cell_type": "code",
   "execution_count": null,
   "metadata": {},
   "outputs": [],
   "source": []
  }
 ],
 "metadata": {
  "kernelspec": {
   "display_name": "Python 3",
   "language": "python",
   "name": "python3"
  },
  "language_info": {
   "codemirror_mode": {
    "name": "ipython",
    "version": 3
   },
   "file_extension": ".py",
   "mimetype": "text/x-python",
   "name": "python",
   "nbconvert_exporter": "python",
   "pygments_lexer": "ipython3",
   "version": "3.7.4"
  }
 },
 "nbformat": 4,
 "nbformat_minor": 2
}
